{
 "cells": [
  {
   "cell_type": "code",
   "execution_count": 6,
   "outputs": [],
   "source": [
    "import numpy as np # linear algebra\n",
    "import pandas as pd # data processing, CSV file I/O (e.g. pd.read_csv)\n",
    "import matplotlib.pyplot as plt\n",
    "%matplotlib inline\n",
    "import seaborn as sns\n",
    "import math\n",
    "import re\n",
    "import time\n",
    "\n",
    "from subprocess import check_output\n",
    "#print(check_output([\"ls\", \"data\"]).decode(\"utf8\"))\n",
    "import os\n",
    "\n",
    "import xgboost as xgb\n",
    "from sklearn.preprocessing import LabelEncoder\n",
    "from sklearn.base import TransformerMixin\n",
    "start_time = time.time()"
   ],
   "metadata": {
    "collapsed": false,
    "pycharm": {
     "name": "#%%\n",
     "is_executing": false
    }
   }
  },
  {
   "cell_type": "code",
   "execution_count": 7,
   "outputs": [],
   "source": [
    "train=pd.read_csv('data/train.tsv', sep='\\t', encoding='utf-8')\n",
    "test=pd.read_csv('data/test.tsv', sep='\\t', encoding='utf-8')\n",
    "sample = pd.read_csv('data/sample_submission.csv', sep='\\t', encoding='utf-8')"
   ],
   "metadata": {
    "collapsed": false,
    "pycharm": {
     "name": "#%%\n",
     "is_executing": false
    }
   }
  },
  {
   "cell_type": "code",
   "execution_count": 8,
   "outputs": [],
   "source": [
    "class DataFrameImputer(TransformerMixin):\n",
    "    def fit(self, X, y=None):\n",
    "        self.fill = pd.Series([X[c].value_counts().index[0]\n",
    "            if X[c].dtype == np.dtype('O') else X[c].median() for c in X], index=X.columns)\n",
    "        return self\n",
    "    def transform(self, X, y=None):\n",
    "        return X.fillna(self.fill)"
   ],
   "metadata": {
    "collapsed": false,
    "pycharm": {
     "name": "#%%\n",
     "is_executing": false
    }
   }
  },
  {
   "cell_type": "code",
   "execution_count": 9,
   "outputs": [],
   "source": [
    "# price to logprice + 1\n",
    "train[\"logprice\"] = np.log(train[\"price\"]+1)\n",
    "\n",
    "# Push \"Other/Other/Other\" into NaN category name\n",
    "train.loc[train[\"category_name\"].isnull(), [\"category_name\"]] = \"Other/Other/Other\" #Merge into others\n",
    "test.loc[test[\"category_name\"].isnull(), [\"category_name\"]] = \"Other/Other/Other\" #Merge into others\n",
    "\n",
    "# make 1st / 2nd level category label\n",
    "train[\"1st_category\"] = train[\"category_name\"].str.extract('([^/]+)/[^/]+/[^/]+')\n",
    "train[\"2nd_category\"] = train[\"category_name\"].str.extract('([^/]+/[^/]+)/[^/]+')\n",
    "test[\"1st_category\"] = test[\"category_name\"].str.extract('([^/]+)/[^/]+/[^/]+')\n",
    "test[\"2nd_category\"] = test[\"category_name\"].str.extract('([^/]+/[^/]+)/[^/]+')"
   ],
   "metadata": {
    "collapsed": false,
    "pycharm": {
     "name": "#%%\n",
     "is_executing": false
    }
   }
  },
  {
   "cell_type": "code",
   "execution_count": 10,
   "outputs": [],
   "source": [
    "feature_columns_to_use = ['item_condition_id','2nd_category', 'brand_name','shipping']\n",
    "nonnumeric_columns = ['2nd_category', 'brand_name']"
   ],
   "metadata": {
    "collapsed": false,
    "pycharm": {
     "name": "#%%\n",
     "is_executing": false
    }
   }
  },
  {
   "cell_type": "code",
   "execution_count": 11,
   "outputs": [],
   "source": [
    "# combine for NaN filling\n",
    "big_X = train[feature_columns_to_use].append(test[feature_columns_to_use])\n",
    "big_X_imputed = DataFrameImputer().fit_transform(big_X)"
   ],
   "metadata": {
    "collapsed": false,
    "pycharm": {
     "name": "#%%\n",
     "is_executing": false
    }
   }
  },
  {
   "cell_type": "code",
   "execution_count": 12,
   "outputs": [
    {
     "data": {
      "text/plain": "   item_condition_id  2nd_category  brand_name  shipping\n0                  3            87        3337         1\n1                  3            10        3889         0\n2                  1           134        4588         1",
      "text/html": "<div>\n<style scoped>\n    .dataframe tbody tr th:only-of-type {\n        vertical-align: middle;\n    }\n\n    .dataframe tbody tr th {\n        vertical-align: top;\n    }\n\n    .dataframe thead th {\n        text-align: right;\n    }\n</style>\n<table border=\"1\" class=\"dataframe\">\n  <thead>\n    <tr style=\"text-align: right;\">\n      <th></th>\n      <th>item_condition_id</th>\n      <th>2nd_category</th>\n      <th>brand_name</th>\n      <th>shipping</th>\n    </tr>\n  </thead>\n  <tbody>\n    <tr>\n      <th>0</th>\n      <td>3</td>\n      <td>87</td>\n      <td>3337</td>\n      <td>1</td>\n    </tr>\n    <tr>\n      <th>1</th>\n      <td>3</td>\n      <td>10</td>\n      <td>3889</td>\n      <td>0</td>\n    </tr>\n    <tr>\n      <th>2</th>\n      <td>1</td>\n      <td>134</td>\n      <td>4588</td>\n      <td>1</td>\n    </tr>\n  </tbody>\n</table>\n</div>"
     },
     "metadata": {},
     "output_type": "execute_result",
     "execution_count": 12
    }
   ],
   "source": [
    "le = LabelEncoder()\n",
    "for feature in nonnumeric_columns:\n",
    "    big_X_imputed[feature] = le.fit_transform(big_X_imputed[feature])\n",
    "\n",
    "big_X_imputed.head(3)"
   ],
   "metadata": {
    "collapsed": false,
    "pycharm": {
     "name": "#%%\n",
     "is_executing": false
    }
   }
  },
  {
   "cell_type": "code",
   "execution_count": 13,
   "outputs": [
    {
     "name": "stderr",
     "text": [
      "c:\\users\\adamd\\desktop\\isp\\isp\\venv\\lib\\site-packages\\ipykernel_launcher.py:6: SettingWithCopyWarning: \nA value is trying to be set on a copy of a slice from a DataFrame.\nTry using .loc[row_indexer,col_indexer] = value instead\n\nSee the caveats in the documentation: http://pandas.pydata.org/pandas-docs/stable/user_guide/indexing.html#returning-a-view-versus-a-copy\n  \n"
     ],
     "output_type": "stream"
    }
   ],
   "source": [
    "big_X_imputed.__class__ # pandas.core.frame.DataFrame\n",
    "\n",
    "trainX = big_X_imputed[0:train.shape[0]]\n",
    "testX = big_X_imputed[train.shape[0]::]\n",
    "\n",
    "trainX[\"price\"] = train[\"price\"]\n",
    "\n",
    "trainX, validX = np.split(trainX.sample(frac=1), [int(.75*trainX.shape[0])])\n",
    "c_ignors = ['price', 'train']\n",
    "col = [c for c in trainX.columns if c not in c_ignors]"
   ],
   "metadata": {
    "collapsed": false,
    "pycharm": {
     "name": "#%%\n",
     "is_executing": false
    }
   }
  },
  {
   "cell_type": "code",
   "execution_count": 14,
   "outputs": [
    {
     "name": "stderr",
     "text": [
      "c:\\users\\adamd\\desktop\\isp\\isp\\venv\\lib\\site-packages\\xgboost\\core.py:587: FutureWarning: Series.base is deprecated and will be removed in a future version\n  if getattr(data, 'base', None) is not None and \\\nc:\\users\\adamd\\desktop\\isp\\isp\\venv\\lib\\site-packages\\xgboost\\core.py:588: FutureWarning: Series.base is deprecated and will be removed in a future version\n  data.base is not None and isinstance(data, np.ndarray) \\\n"
     ],
     "output_type": "stream"
    }
   ],
   "source": [
    "dtrain = xgb.DMatrix(trainX[col], trainX['price'])\n",
    "dvalid  = xgb.DMatrix(validX[col],  validX['price'])"
   ],
   "metadata": {
    "collapsed": false,
    "pycharm": {
     "name": "#%%\n",
     "is_executing": false
    }
   }
  },
  {
   "cell_type": "code",
   "execution_count": 15,
   "outputs": [
    {
     "name": "stdout",
     "text": [
      "[0]\ttrain-rmse:46.4184\tvalid-rmse:46.4967\n",
      "Multiple eval metrics have been passed: 'valid-rmse' will be used for early stopping.\n\n",
      "Will train until valid-rmse hasn't improved in 20 rounds.\n",
      "[10]\ttrain-rmse:44.2266\tvalid-rmse:44.3221\n",
      "[20]\ttrain-rmse:42.5982\tvalid-rmse:42.7101\n",
      "[30]\ttrain-rmse:41.2605\tvalid-rmse:41.3859\n",
      "[40]\ttrain-rmse:40.1368\tvalid-rmse:40.2747\n",
      "[50]\ttrain-rmse:39.3646\tvalid-rmse:39.5126\n",
      "[60]\ttrain-rmse:38.7419\tvalid-rmse:38.8964\n",
      "[70]\ttrain-rmse:38.1534\tvalid-rmse:38.3181\n",
      "[80]\ttrain-rmse:37.7173\tvalid-rmse:37.8894\n",
      "[90]\ttrain-rmse:37.4269\tvalid-rmse:37.6045\n",
      "[100]\ttrain-rmse:37.1377\tvalid-rmse:37.3212\n",
      "[110]\ttrain-rmse:36.9002\tvalid-rmse:37.0893\n",
      "[120]\ttrain-rmse:36.6925\tvalid-rmse:36.8868\n",
      "[130]\ttrain-rmse:36.5236\tvalid-rmse:36.7231\n",
      "[140]\ttrain-rmse:36.335\tvalid-rmse:36.5405\n",
      "[150]\ttrain-rmse:36.239\tvalid-rmse:36.447\n",
      "[160]\ttrain-rmse:36.0935\tvalid-rmse:36.3068\n",
      "[170]\ttrain-rmse:36.0088\tvalid-rmse:36.2243\n",
      "[180]\ttrain-rmse:35.8966\tvalid-rmse:36.1165\n",
      "[190]\ttrain-rmse:35.803\tvalid-rmse:36.0263\n",
      "[200]\ttrain-rmse:35.746\tvalid-rmse:35.9721\n",
      "[210]\ttrain-rmse:35.6481\tvalid-rmse:35.8783\n",
      "[220]\ttrain-rmse:35.6098\tvalid-rmse:35.8416\n",
      "[230]\ttrain-rmse:35.5388\tvalid-rmse:35.7737\n",
      "[240]\ttrain-rmse:35.5067\tvalid-rmse:35.7434\n",
      "[250]\ttrain-rmse:35.4569\tvalid-rmse:35.6952\n",
      "[260]\ttrain-rmse:35.4135\tvalid-rmse:35.6543\n",
      "[270]\ttrain-rmse:35.3771\tvalid-rmse:35.6202\n",
      "[280]\ttrain-rmse:35.3654\tvalid-rmse:35.6085\n",
      "[290]\ttrain-rmse:35.3222\tvalid-rmse:35.5679\n",
      "[300]\ttrain-rmse:35.2911\tvalid-rmse:35.5387\n",
      "[310]\ttrain-rmse:35.265\tvalid-rmse:35.5144\n",
      "[320]\ttrain-rmse:35.2476\tvalid-rmse:35.4981\n",
      "[330]\ttrain-rmse:35.2213\tvalid-rmse:35.4738\n",
      "[340]\ttrain-rmse:35.2117\tvalid-rmse:35.4649\n",
      "[350]\ttrain-rmse:35.2024\tvalid-rmse:35.4565\n",
      "[360]\ttrain-rmse:35.1873\tvalid-rmse:35.4423\n",
      "[370]\ttrain-rmse:35.1762\tvalid-rmse:35.4319\n",
      "[380]\ttrain-rmse:35.1599\tvalid-rmse:35.4169\n",
      "[390]\ttrain-rmse:35.1404\tvalid-rmse:35.3991\n",
      "[400]\ttrain-rmse:35.1286\tvalid-rmse:35.3881\n",
      "[410]\ttrain-rmse:35.1229\tvalid-rmse:35.3826\n",
      "[420]\ttrain-rmse:35.1172\tvalid-rmse:35.3774\n",
      "[430]\ttrain-rmse:35.1118\tvalid-rmse:35.3723\n",
      "[440]\ttrain-rmse:35.1046\tvalid-rmse:35.3654\n",
      "[450]\ttrain-rmse:35.095\tvalid-rmse:35.357\n",
      "[460]\ttrain-rmse:35.0883\tvalid-rmse:35.3508\n",
      "[470]\ttrain-rmse:35.0798\tvalid-rmse:35.3433\n",
      "[480]\ttrain-rmse:35.0727\tvalid-rmse:35.337\n",
      "[490]\ttrain-rmse:35.0656\tvalid-rmse:35.3304\n",
      "[500]\ttrain-rmse:35.0621\tvalid-rmse:35.3272\n",
      "[510]\ttrain-rmse:35.0542\tvalid-rmse:35.3202\n",
      "[520]\ttrain-rmse:35.0485\tvalid-rmse:35.3151\n",
      "[530]\ttrain-rmse:35.0431\tvalid-rmse:35.3102\n",
      "[540]\ttrain-rmse:35.0392\tvalid-rmse:35.3067\n",
      "[550]\ttrain-rmse:35.0323\tvalid-rmse:35.3008\n",
      "[560]\ttrain-rmse:35.0271\tvalid-rmse:35.2967\n",
      "[570]\ttrain-rmse:35.0233\tvalid-rmse:35.2926\n",
      "[580]\ttrain-rmse:35.0201\tvalid-rmse:35.2895\n",
      "[590]\ttrain-rmse:35.0179\tvalid-rmse:35.2876\n",
      "[600]\ttrain-rmse:35.0162\tvalid-rmse:35.2859\n",
      "[610]\ttrain-rmse:35.0118\tvalid-rmse:35.282\n",
      "[620]\ttrain-rmse:35.0097\tvalid-rmse:35.2802\n",
      "[630]\ttrain-rmse:35.0067\tvalid-rmse:35.2777\n",
      "[640]\ttrain-rmse:35.0041\tvalid-rmse:35.2752\n",
      "[650]\ttrain-rmse:35.0017\tvalid-rmse:35.2732\n",
      "[660]\ttrain-rmse:34.9991\tvalid-rmse:35.271\n",
      "[670]\ttrain-rmse:34.997\tvalid-rmse:35.2695\n",
      "[680]\ttrain-rmse:34.9952\tvalid-rmse:35.2678\n",
      "[690]\ttrain-rmse:34.9936\tvalid-rmse:35.2665\n",
      "[700]\ttrain-rmse:34.9915\tvalid-rmse:35.2645\n",
      "[710]\ttrain-rmse:34.9892\tvalid-rmse:35.2627\n",
      "[720]\ttrain-rmse:34.9872\tvalid-rmse:35.261\n",
      "[730]\ttrain-rmse:34.9858\tvalid-rmse:35.26\n",
      "[740]\ttrain-rmse:34.9845\tvalid-rmse:35.2587\n",
      "[750]\ttrain-rmse:34.983\tvalid-rmse:35.2576\n",
      "[760]\ttrain-rmse:34.9823\tvalid-rmse:35.257\n",
      "[770]\ttrain-rmse:34.9813\tvalid-rmse:35.2559\n",
      "[780]\ttrain-rmse:34.9789\tvalid-rmse:35.2541\n",
      "[790]\ttrain-rmse:34.9772\tvalid-rmse:35.2529\n",
      "[800]\ttrain-rmse:34.9762\tvalid-rmse:35.2521\n",
      "[810]\ttrain-rmse:34.9752\tvalid-rmse:35.2512\n",
      "[820]\ttrain-rmse:34.9743\tvalid-rmse:35.2503\n",
      "[830]\ttrain-rmse:34.9728\tvalid-rmse:35.2492\n",
      "[840]\ttrain-rmse:34.9717\tvalid-rmse:35.2482\n",
      "[850]\ttrain-rmse:34.9708\tvalid-rmse:35.2477\n",
      "[860]\ttrain-rmse:34.9705\tvalid-rmse:35.247\n",
      "[870]\ttrain-rmse:34.9695\tvalid-rmse:35.2462\n",
      "[880]\ttrain-rmse:34.9691\tvalid-rmse:35.2458\n",
      "[890]\ttrain-rmse:34.9682\tvalid-rmse:35.2452\n",
      "[900]\ttrain-rmse:34.9676\tvalid-rmse:35.2446\n",
      "[910]\ttrain-rmse:34.9671\tvalid-rmse:35.2443\n",
      "[920]\ttrain-rmse:34.9663\tvalid-rmse:35.2437\n",
      "[930]\ttrain-rmse:34.9661\tvalid-rmse:35.2436\n",
      "[940]\ttrain-rmse:34.9651\tvalid-rmse:35.2431\n",
      "[950]\ttrain-rmse:34.9644\tvalid-rmse:35.2425\n",
      "[960]\ttrain-rmse:34.9641\tvalid-rmse:35.2422\n",
      "[970]\ttrain-rmse:34.9637\tvalid-rmse:35.242\n",
      "[980]\ttrain-rmse:34.9627\tvalid-rmse:35.2415\n",
      "[990]\ttrain-rmse:34.9622\tvalid-rmse:35.2411\n",
      "[999]\ttrain-rmse:34.9617\tvalid-rmse:35.2406\n"
     ],
     "output_type": "stream"
    }
   ],
   "source": [
    "watchlist = [(dtrain, 'train'), (dvalid, 'valid')]\n",
    "params = {'min_child_weight': 20, 'eta': 0.015, 'colsample_bytree': 0.48, 'max_depth': 14,\n",
    "            'subsample': 0.91, 'lambda': 2.01, 'nthread': 4, 'booster' : 'gbtree', 'silent': 1,\n",
    "            'eval_metric': 'rmse', 'objective': 'reg:linear','tree_method': 'hist'}\n",
    "model = xgb.train(params, dtrain, 1000, watchlist, verbose_eval=10, early_stopping_rounds=20)\n"
   ],
   "metadata": {
    "collapsed": false,
    "pycharm": {
     "name": "#%%\n",
     "is_executing": false
    }
   }
  },
  {
   "cell_type": "code",
   "execution_count": 16,
   "outputs": [],
   "source": [
    "#submission = pd.DataFrame({ 'test_id': test['test_id'], 'price': predictions })\n",
    "#submission.to_csv(\"submission.csv\", index=False)"
   ],
   "metadata": {
    "collapsed": false,
    "pycharm": {
     "name": "#%%\n",
     "is_executing": false
    }
   }
  },
  {
   "cell_type": "code",
   "execution_count": 17,
   "outputs": [
    {
     "name": "stdout",
     "text": [
      "Finished ...\nTotal time 8.689324649175008 min\n"
     ],
     "output_type": "stream"
    }
   ],
   "source": [
    "test['price'] = model.predict(xgb.DMatrix(testX[col]), ntree_limit=model.best_ntree_limit)\n",
    "test.loc[test['price'] < 0, 'price'] = 0\n",
    "test['test_id'] = test['test_id'].astype(int)\n",
    "test[['test_id', 'price']].to_csv(\"output.csv\", index = False)\n",
    "print(\"Finished ...\")\n",
    "tt = (time.time() - start_time)/60\n",
    "print(\"Total time %s min\" % tt)"
   ],
   "metadata": {
    "collapsed": false,
    "pycharm": {
     "name": "#%%\n",
     "is_executing": false
    }
   }
  }
 ],
 "metadata": {
  "kernelspec": {
   "display_name": "Python 3",
   "language": "python",
   "name": "python3"
  },
  "language_info": {
   "codemirror_mode": {
    "name": "ipython",
    "version": 3
   },
   "file_extension": ".py",
   "mimetype": "text/x-python",
   "name": "python",
   "nbconvert_exporter": "python",
   "pygments_lexer": "ipython3",
   "version": "3.6.3"
  },
  "pycharm": {
   "stem_cell": {
    "cell_type": "raw",
    "source": [],
    "metadata": {
     "collapsed": false
    }
   }
  }
 },
 "nbformat": 4,
 "nbformat_minor": 1
}